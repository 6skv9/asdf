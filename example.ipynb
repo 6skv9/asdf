import pandas as pd
import numpy as np
import matplotlib.pyplot as plt

x = np.arange(6)
y = np.arange(6)

plt.line(x,y)
plt.show()
